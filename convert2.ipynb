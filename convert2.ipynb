{
 "cells": [
  {
   "cell_type": "code",
   "execution_count": 1,
   "metadata": {},
   "outputs": [
    {
     "name": "stdout",
     "output_type": "stream",
     "text": [
      "CSV file has been created: output_file.csv\n"
     ]
    }
   ],
   "source": [
    "import pandas as pd\n",
    "\n",
    "# Read the Excel file\n",
    "xlsx_file_path = '/Users/chelsi/Desktop/ISRO/TSOL-1_FINAL.xlsx' \n",
    "sheet_name = 0  \n",
    "\n",
    "df = pd.read_excel(xlsx_file_path, sheet_name=sheet_name)\n",
    "\n",
    "csv_file_path = 'output_file.csv'  \n",
    "df.to_csv(csv_file_path, index=False)\n",
    "\n",
    "print(f\"CSV file has been created: {csv_file_path}\")\n"
   ]
  },
  {
   "cell_type": "code",
   "execution_count": 2,
   "metadata": {},
   "outputs": [
    {
     "name": "stdout",
     "output_type": "stream",
     "text": [
      "Converted file saved as /Users/chelsi/Desktop/ISRO/empty.csv\n"
     ]
    }
   ],
   "source": [
    "import pandas as pd\n",
    "\n",
    "# Load the provided CSV files\n",
    "output_file_path = '/Users/chelsi/Desktop/ISRO/output_file.csv'\n",
    "converted_file_path = '/Users/chelsi/Desktop/ISRO/empty.csv'\n",
    "\n",
    "output_df = pd.read_csv(output_file_path)\n",
    "\n",
    "# Extract relevant columns related to \"Dose\" (ED) and \"Error\" (ED_Err)\n",
    "# Adjust column names as per your file structure if necessary\n",
    "converted_df = output_df[['Column6', 'Column7']].copy()\n",
    "converted_df.columns = ['Dose', 'Error']\n",
    "\n",
    "# Remove any header rows or rows with NaN values\n",
    "converted_df = converted_df.iloc[1:].dropna().reset_index(drop=True)\n",
    "\n",
    "# Save the converted data to a new CSV file\n",
    "converted_df.to_csv(converted_file_path, index=False)\n",
    "\n",
    "print(f\"Converted file saved as {converted_file_path}\")\n"
   ]
  }
 ],
 "metadata": {
  "kernelspec": {
   "display_name": "isroenv",
   "language": "python",
   "name": "python3"
  },
  "language_info": {
   "codemirror_mode": {
    "name": "ipython",
    "version": 3
   },
   "file_extension": ".py",
   "mimetype": "text/x-python",
   "name": "python",
   "nbconvert_exporter": "python",
   "pygments_lexer": "ipython3",
   "version": "3.13.0"
  }
 },
 "nbformat": 4,
 "nbformat_minor": 2
}
